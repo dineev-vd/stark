{
  "cells": [
    {
      "cell_type": "markdown",
      "metadata": {},
      "source": [
        "# Структура модели"
      ]
    },
    {
      "cell_type": "code",
      "execution_count": null,
      "metadata": {},
      "outputs": [],
      "source": [
        "from lib.test.evaluation import Tracker\n",
        "\n",
        "tracker = Tracker(\"stark_st\", \"baseline\", \"video\")\n",
        "stark50st = tracker.create_tracker(tracker.get_parameters()).network\n",
        "stark50st"
      ]
    },
    {
      "cell_type": "markdown",
      "metadata": {},
      "source": [
        "# Пример трекинга машины на шоссе"
      ]
    },
    {
      "cell_type": "markdown",
      "metadata": {},
      "source": [
        "Инициализация"
      ]
    },
    {
      "cell_type": "code",
      "execution_count": 23,
      "metadata": {},
      "outputs": [],
      "source": [
        "!python tracking/create_default_local_file.py --workspace_dir . --data_dir ./data --save_dir ."
      ]
    },
    {
      "cell_type": "markdown",
      "metadata": {},
      "source": [
        "Starks50"
      ]
    },
    {
      "cell_type": "code",
      "execution_count": null,
      "metadata": {
        "colab": {
          "base_uri": "https://localhost:8080/"
        },
        "id": "6hSGOlLi8fFb",
        "outputId": "0c07c934-42e3-4714-e38f-487e02fbb57c"
      },
      "outputs": [],
      "source": [
        "!python tracking/video_demo.py stark_s baseline video.mp4"
      ]
    },
    {
      "cell_type": "markdown",
      "metadata": {},
      "source": [
        "Starkst50"
      ]
    },
    {
      "cell_type": "code",
      "execution_count": null,
      "metadata": {},
      "outputs": [],
      "source": [
        "!python tracking/video_demo.py stark_st baseline video.mp4"
      ]
    },
    {
      "cell_type": "markdown",
      "metadata": {},
      "source": [
        "Starkst101"
      ]
    },
    {
      "cell_type": "code",
      "execution_count": null,
      "metadata": {},
      "outputs": [],
      "source": [
        "!python tracking/video_demo.py stark_st baseline_R101 video.mp4"
      ]
    },
    {
      "cell_type": "markdown",
      "metadata": {},
      "source": [
        "# Сохранение bounding box-ов"
      ]
    },
    {
      "cell_type": "code",
      "execution_count": null,
      "metadata": {},
      "outputs": [],
      "source": [
        "!python tracking/video_demo.py stark_st baseline_R101 video.mp4 --save_results"
      ]
    }
  ],
  "metadata": {
    "accelerator": "GPU",
    "colab": {
      "name": "STARK",
      "provenance": []
    },
    "kernelspec": {
      "display_name": "Python 3",
      "name": "python3"
    },
    "language_info": {
      "codemirror_mode": {
        "name": "ipython",
        "version": 3
      },
      "file_extension": ".py",
      "mimetype": "text/x-python",
      "name": "python",
      "nbconvert_exporter": "python",
      "pygments_lexer": "ipython3",
      "version": "3.6.13"
    }
  },
  "nbformat": 4,
  "nbformat_minor": 0
}
